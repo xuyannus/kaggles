{
 "cells": [
  {
   "cell_type": "code",
   "execution_count": 2,
   "metadata": {},
   "outputs": [],
   "source": [
    "import os\n",
    "import sys\n",
    "sys.path.insert(0, os.path.abspath('../'))"
   ]
  },
  {
   "cell_type": "code",
   "execution_count": 3,
   "metadata": {},
   "outputs": [],
   "source": [
    "import math\n",
    "import common \n",
    "import pandas as pd\n",
    "import numpy as np\n",
    "\n",
    "import matplotlib.pyplot as plt\n",
    "import seaborn as sns"
   ]
  },
  {
   "cell_type": "code",
   "execution_count": 10,
   "metadata": {},
   "outputs": [],
   "source": [
    "train_df = pd.read_csv(\"./data/train.csv\", index_col=\"Id\")\n",
    "test_df = pd.read_csv(\"./data/test.csv\", index_col=\"Id\")"
   ]
  },
  {
   "cell_type": "code",
   "execution_count": 11,
   "metadata": {},
   "outputs": [
    {
     "data": {
      "text/plain": [
       "(1460, 80)"
      ]
     },
     "execution_count": 11,
     "metadata": {},
     "output_type": "execute_result"
    }
   ],
   "source": [
    "train_df.shape"
   ]
  },
  {
   "cell_type": "code",
   "execution_count": 12,
   "metadata": {},
   "outputs": [
    {
     "data": {
      "text/plain": [
       "(1459, 79)"
      ]
     },
     "execution_count": 12,
     "metadata": {},
     "output_type": "execute_result"
    }
   ],
   "source": [
    "test_df.shape"
   ]
  },
  {
   "cell_type": "code",
   "execution_count": 13,
   "metadata": {},
   "outputs": [
    {
     "data": {
      "text/plain": [
       "Index(['MSSubClass', 'MSZoning', 'LotFrontage', 'LotArea', 'Street', 'Alley',\n",
       "       'LotShape', 'LandContour', 'Utilities', 'LotConfig', 'LandSlope',\n",
       "       'Neighborhood', 'Condition1', 'Condition2', 'BldgType', 'HouseStyle',\n",
       "       'OverallQual', 'OverallCond', 'YearBuilt', 'YearRemodAdd', 'RoofStyle',\n",
       "       'RoofMatl', 'Exterior1st', 'Exterior2nd', 'MasVnrType', 'MasVnrArea',\n",
       "       'ExterQual', 'ExterCond', 'Foundation', 'BsmtQual', 'BsmtCond',\n",
       "       'BsmtExposure', 'BsmtFinType1', 'BsmtFinSF1', 'BsmtFinType2',\n",
       "       'BsmtFinSF2', 'BsmtUnfSF', 'TotalBsmtSF', 'Heating', 'HeatingQC',\n",
       "       'CentralAir', 'Electrical', '1stFlrSF', '2ndFlrSF', 'LowQualFinSF',\n",
       "       'GrLivArea', 'BsmtFullBath', 'BsmtHalfBath', 'FullBath', 'HalfBath',\n",
       "       'BedroomAbvGr', 'KitchenAbvGr', 'KitchenQual', 'TotRmsAbvGrd',\n",
       "       'Functional', 'Fireplaces', 'FireplaceQu', 'GarageType', 'GarageYrBlt',\n",
       "       'GarageFinish', 'GarageCars', 'GarageArea', 'GarageQual', 'GarageCond',\n",
       "       'PavedDrive', 'WoodDeckSF', 'OpenPorchSF', 'EnclosedPorch', '3SsnPorch',\n",
       "       'ScreenPorch', 'PoolArea', 'PoolQC', 'Fence', 'MiscFeature', 'MiscVal',\n",
       "       'MoSold', 'YrSold', 'SaleType', 'SaleCondition', 'SalePrice'],\n",
       "      dtype='object')"
      ]
     },
     "execution_count": 13,
     "metadata": {},
     "output_type": "execute_result"
    }
   ],
   "source": [
    "train_df.columns"
   ]
  },
  {
   "cell_type": "code",
   "execution_count": 21,
   "metadata": {},
   "outputs": [
    {
     "data": {
      "text/plain": [
       "Index(['MSSubClass', 'MSZoning', 'LotFrontage', 'LotArea', 'Street', 'Alley',\n",
       "       'LotShape', 'LandContour', 'Utilities', 'LotConfig', 'LandSlope',\n",
       "       'Neighborhood', 'Condition1', 'Condition2', 'BldgType', 'HouseStyle',\n",
       "       'OverallQual', 'OverallCond', 'YearBuilt', 'YearRemodAdd', 'RoofStyle',\n",
       "       'RoofMatl', 'Exterior1st', 'Exterior2nd', 'MasVnrType', 'MasVnrArea',\n",
       "       'ExterQual', 'ExterCond', 'Foundation', 'BsmtQual', 'BsmtCond',\n",
       "       'BsmtExposure', 'BsmtFinType1', 'BsmtFinSF1', 'BsmtFinType2',\n",
       "       'BsmtFinSF2', 'BsmtUnfSF', 'TotalBsmtSF', 'Heating', 'HeatingQC',\n",
       "       'CentralAir', 'Electrical', '1stFlrSF', '2ndFlrSF', 'LowQualFinSF',\n",
       "       'GrLivArea', 'BsmtFullBath', 'BsmtHalfBath', 'FullBath', 'HalfBath',\n",
       "       'BedroomAbvGr', 'KitchenAbvGr', 'KitchenQual', 'TotRmsAbvGrd',\n",
       "       'Functional', 'Fireplaces', 'FireplaceQu', 'GarageType', 'GarageYrBlt',\n",
       "       'GarageFinish', 'GarageCars', 'GarageArea', 'GarageQual', 'GarageCond',\n",
       "       'PavedDrive', 'WoodDeckSF', 'OpenPorchSF', 'EnclosedPorch', '3SsnPorch',\n",
       "       'ScreenPorch', 'PoolArea', 'PoolQC', 'Fence', 'MiscFeature', 'MiscVal',\n",
       "       'MoSold', 'YrSold', 'SaleType', 'SaleCondition'],\n",
       "      dtype='object')"
      ]
     },
     "execution_count": 21,
     "metadata": {},
     "output_type": "execute_result"
    }
   ],
   "source": [
    "test_df[test_df['GarageCars'].isna()].loc[2577].index"
   ]
  },
  {
   "cell_type": "code",
   "execution_count": 23,
   "metadata": {},
   "outputs": [
    {
     "data": {
      "text/plain": [
       "nan"
      ]
     },
     "execution_count": 23,
     "metadata": {},
     "output_type": "execute_result"
    }
   ],
   "source": [
    "test_df[test_df['GarageCars'].isna()].loc[2577]['GarageYrBlt']"
   ]
  },
  {
   "cell_type": "markdown",
   "metadata": {},
   "source": [
    "# Distribution of Target Variable"
   ]
  },
  {
   "cell_type": "code",
   "execution_count": 7,
   "metadata": {},
   "outputs": [
    {
     "data": {
      "text/plain": [
       "count      1460.000000\n",
       "mean     180921.195890\n",
       "std       79442.502883\n",
       "min       34900.000000\n",
       "25%      129975.000000\n",
       "50%      163000.000000\n",
       "75%      214000.000000\n",
       "max      755000.000000\n",
       "Name: SalePrice, dtype: float64"
      ]
     },
     "execution_count": 7,
     "metadata": {},
     "output_type": "execute_result"
    }
   ],
   "source": [
    "train_df['SalePrice'].describe()"
   ]
  },
  {
   "cell_type": "code",
   "execution_count": 10,
   "metadata": {},
   "outputs": [
    {
     "data": {
      "text/plain": [
       "<matplotlib.axes._subplots.AxesSubplot at 0x7ff2a30060d0>"
      ]
     },
     "execution_count": 10,
     "metadata": {},
     "output_type": "execute_result"
    },
    {
     "data": {
      "image/png": "[encoded data removed]",
      "text/plain": [
       "<Figure size 864x648 with 1 Axes>"
      ]
     },
     "metadata": {
      "needs_background": "light"
     },
     "output_type": "display_data"
    }
   ],
   "source": [
    "train_df['SalePrice'].hist(bins=40, figsize=(12, 9))"
   ]
  },
  {
   "cell_type": "markdown",
   "metadata": {},
   "source": [
    "# Corr between continuous features of Target Variable"
   ]
  },
  {
   "cell_type": "code",
   "execution_count": 52,
   "metadata": {},
   "outputs": [
    {
     "data": {
      "text/plain": [
       "<matplotlib.axes._subplots.AxesSubplot at 0x7ff2a5270eb0>"
      ]
     },
     "execution_count": 52,
     "metadata": {},
     "output_type": "execute_result"
    },
    {
     "data": {
      "image/png": "[encoded data removed]",
      "text/plain": [
       "<Figure size 1296x1080 with 2 Axes>"
      ]
     },
     "metadata": {
      "needs_background": "light"
     },
     "output_type": "display_data"
    }
   ],
   "source": [
    "corrmat = train_df.corr()\n",
    "corrmat_abs = np.abs(corrmat)\n",
    "f, ax = plt.subplots(figsize=(18, 15))\n",
    "sns.heatmap(corrmat_abs, vmax=.8, square=True, cmap=\"BuPu\")"
   ]
  },
  {
   "cell_type": "code",
   "execution_count": 54,
   "metadata": {},
   "outputs": [
    {
     "data": {
      "text/plain": [
       "SalePrice       1.000000\n",
       "OverallQual     0.790982\n",
       "GrLivArea       0.708624\n",
       "GarageCars      0.640409\n",
       "GarageArea      0.623431\n",
       "TotalBsmtSF     0.613581\n",
       "1stFlrSF        0.605852\n",
       "FullBath        0.560664\n",
       "TotRmsAbvGrd    0.533723\n",
       "YearBuilt       0.522897\n",
       "YearRemodAdd    0.507101\n",
       "GarageYrBlt     0.486362\n",
       "MasVnrArea      0.477493\n",
       "Fireplaces      0.466929\n",
       "BsmtFinSF1      0.386420\n",
       "LotFrontage     0.351799\n",
       "WoodDeckSF      0.324413\n",
       "2ndFlrSF        0.319334\n",
       "OpenPorchSF     0.315856\n",
       "HalfBath        0.284108\n",
       "LotArea         0.263843\n",
       "Name: SalePrice, dtype: float64"
      ]
     },
     "execution_count": 54,
     "metadata": {},
     "output_type": "execute_result"
    }
   ],
   "source": [
    "corrmat_abs['SalePrice'].sort_values(ascending=False)[:21]"
   ]
  },
  {
   "cell_type": "code",
   "execution_count": 57,
   "metadata": {},
   "outputs": [],
   "source": [
    "selected_columns = corrmat_abs['SalePrice'].sort_values(ascending=False)[:21].index\n",
    "selected_columns = selected_columns[1:]"
   ]
  },
  {
   "cell_type": "markdown",
   "metadata": {},
   "source": [
    "# Feature Selection using LightGBM which could naturally deal with categorical features"
   ]
  },
  {
   "cell_type": "code",
   "execution_count": 52,
   "metadata": {},
   "outputs": [],
   "source": [
    "import lightgbm as lgb"
   ]
  },
  {
   "cell_type": "code",
   "execution_count": 53,
   "metadata": {},
   "outputs": [],
   "source": [
    "train_copy_df = train_df.copy()"
   ]
  },
  {
   "cell_type": "code",
   "execution_count": 54,
   "metadata": {},
   "outputs": [],
   "source": [
    "model = lgb.LGBMRegressor()"
   ]
  },
  {
   "cell_type": "code",
   "execution_count": 55,
   "metadata": {},
   "outputs": [],
   "source": [
    "cat_features = ['MSSubClass', 'MSZoning', 'Street', 'Alley',\n",
    "               'LotShape', 'LandContour', 'Utilities', 'LotConfig', 'LandSlope',\n",
    "               'Neighborhood', 'Condition1', 'Condition2', 'BldgType', 'HouseStyle',\n",
    "               'RoofStyle',\n",
    "               'RoofMatl', 'Exterior1st', 'Exterior2nd', 'MasVnrType',\n",
    "               'ExterQual', 'ExterCond', 'Foundation', 'BsmtQual', 'BsmtCond',\n",
    "               'BsmtExposure', 'BsmtFinType1', 'BsmtFinType2',\n",
    "               'BsmtUnfSF',  'Heating', 'HeatingQC',\n",
    "               'CentralAir', 'Electrical',\n",
    "               'KitchenQual', \n",
    "               'Functional', 'FireplaceQu', 'GarageType', \n",
    "               'GarageFinish', 'GarageQual', 'GarageCond',\n",
    "               'PavedDrive', 'PoolQC', 'Fence', 'MiscFeature', \n",
    "               'SaleType', 'SaleCondition']"
   ]
  },
  {
   "cell_type": "code",
   "execution_count": 56,
   "metadata": {},
   "outputs": [],
   "source": [
    "for fea in cat_features:\n",
    "    train_copy_df[fea] = train_copy_df[fea].astype('category')\n",
    "    train_copy_df[fea] = train_copy_df[fea].cat.codes"
   ]
  },
  {
   "cell_type": "code",
   "execution_count": 57,
   "metadata": {},
   "outputs": [
    {
     "data": {
      "text/html": [
       "<div>\n",
       "<style scoped>\n",
       "    .dataframe tbody tr th:only-of-type {\n",
       "        vertical-align: middle;\n",
       "    }\n",
       "\n",
       "    .dataframe tbody tr th {\n",
       "        vertical-align: top;\n",
       "    }\n",
       "\n",
       "    .dataframe thead th {\n",
       "        text-align: right;\n",
       "    }\n",
       "</style>\n",
       "<table border=\"1\" class=\"dataframe\">\n",
       "  <thead>\n",
       "    <tr style=\"text-align: right;\">\n",
       "      <th></th>\n",
       "      <th>MSSubClass</th>\n",
       "      <th>MSZoning</th>\n",
       "      <th>LotFrontage</th>\n",
       "      <th>LotArea</th>\n",
       "      <th>Street</th>\n",
       "      <th>Alley</th>\n",
       "      <th>LotShape</th>\n",
       "      <th>LandContour</th>\n",
       "      <th>Utilities</th>\n",
       "      <th>LotConfig</th>\n",
       "      <th>...</th>\n",
       "      <th>PoolArea</th>\n",
       "      <th>PoolQC</th>\n",
       "      <th>Fence</th>\n",
       "      <th>MiscFeature</th>\n",
       "      <th>MiscVal</th>\n",
       "      <th>MoSold</th>\n",
       "      <th>YrSold</th>\n",
       "      <th>SaleType</th>\n",
       "      <th>SaleCondition</th>\n",
       "      <th>SalePrice</th>\n",
       "    </tr>\n",
       "    <tr>\n",
       "      <th>Id</th>\n",
       "      <th></th>\n",
       "      <th></th>\n",
       "      <th></th>\n",
       "      <th></th>\n",
       "      <th></th>\n",
       "      <th></th>\n",
       "      <th></th>\n",
       "      <th></th>\n",
       "      <th></th>\n",
       "      <th></th>\n",
       "      <th></th>\n",
       "      <th></th>\n",
       "      <th></th>\n",
       "      <th></th>\n",
       "      <th></th>\n",
       "      <th></th>\n",
       "      <th></th>\n",
       "      <th></th>\n",
       "      <th></th>\n",
       "      <th></th>\n",
       "      <th></th>\n",
       "    </tr>\n",
       "  </thead>\n",
       "  <tbody>\n",
       "    <tr>\n",
       "      <th>1</th>\n",
       "      <td>5</td>\n",
       "      <td>3</td>\n",
       "      <td>65.0</td>\n",
       "      <td>8450</td>\n",
       "      <td>1</td>\n",
       "      <td>-1</td>\n",
       "      <td>3</td>\n",
       "      <td>3</td>\n",
       "      <td>0</td>\n",
       "      <td>4</td>\n",
       "      <td>...</td>\n",
       "      <td>0</td>\n",
       "      <td>-1</td>\n",
       "      <td>-1</td>\n",
       "      <td>-1</td>\n",
       "      <td>0</td>\n",
       "      <td>2</td>\n",
       "      <td>2008</td>\n",
       "      <td>8</td>\n",
       "      <td>4</td>\n",
       "      <td>208500</td>\n",
       "    </tr>\n",
       "    <tr>\n",
       "      <th>2</th>\n",
       "      <td>0</td>\n",
       "      <td>3</td>\n",
       "      <td>80.0</td>\n",
       "      <td>9600</td>\n",
       "      <td>1</td>\n",
       "      <td>-1</td>\n",
       "      <td>3</td>\n",
       "      <td>3</td>\n",
       "      <td>0</td>\n",
       "      <td>2</td>\n",
       "      <td>...</td>\n",
       "      <td>0</td>\n",
       "      <td>-1</td>\n",
       "      <td>-1</td>\n",
       "      <td>-1</td>\n",
       "      <td>0</td>\n",
       "      <td>5</td>\n",
       "      <td>2007</td>\n",
       "      <td>8</td>\n",
       "      <td>4</td>\n",
       "      <td>181500</td>\n",
       "    </tr>\n",
       "    <tr>\n",
       "      <th>3</th>\n",
       "      <td>5</td>\n",
       "      <td>3</td>\n",
       "      <td>68.0</td>\n",
       "      <td>11250</td>\n",
       "      <td>1</td>\n",
       "      <td>-1</td>\n",
       "      <td>0</td>\n",
       "      <td>3</td>\n",
       "      <td>0</td>\n",
       "      <td>4</td>\n",
       "      <td>...</td>\n",
       "      <td>0</td>\n",
       "      <td>-1</td>\n",
       "      <td>-1</td>\n",
       "      <td>-1</td>\n",
       "      <td>0</td>\n",
       "      <td>9</td>\n",
       "      <td>2008</td>\n",
       "      <td>8</td>\n",
       "      <td>4</td>\n",
       "      <td>223500</td>\n",
       "    </tr>\n",
       "    <tr>\n",
       "      <th>4</th>\n",
       "      <td>6</td>\n",
       "      <td>3</td>\n",
       "      <td>60.0</td>\n",
       "      <td>9550</td>\n",
       "      <td>1</td>\n",
       "      <td>-1</td>\n",
       "      <td>0</td>\n",
       "      <td>3</td>\n",
       "      <td>0</td>\n",
       "      <td>0</td>\n",
       "      <td>...</td>\n",
       "      <td>0</td>\n",
       "      <td>-1</td>\n",
       "      <td>-1</td>\n",
       "      <td>-1</td>\n",
       "      <td>0</td>\n",
       "      <td>2</td>\n",
       "      <td>2006</td>\n",
       "      <td>8</td>\n",
       "      <td>0</td>\n",
       "      <td>140000</td>\n",
       "    </tr>\n",
       "    <tr>\n",
       "      <th>5</th>\n",
       "      <td>5</td>\n",
       "      <td>3</td>\n",
       "      <td>84.0</td>\n",
       "      <td>14260</td>\n",
       "      <td>1</td>\n",
       "      <td>-1</td>\n",
       "      <td>0</td>\n",
       "      <td>3</td>\n",
       "      <td>0</td>\n",
       "      <td>2</td>\n",
       "      <td>...</td>\n",
       "      <td>0</td>\n",
       "      <td>-1</td>\n",
       "      <td>-1</td>\n",
       "      <td>-1</td>\n",
       "      <td>0</td>\n",
       "      <td>12</td>\n",
       "      <td>2008</td>\n",
       "      <td>8</td>\n",
       "      <td>4</td>\n",
       "      <td>250000</td>\n",
       "    </tr>\n",
       "  </tbody>\n",
       "</table>\n",
       "<p>5 rows × 80 columns</p>\n",
       "</div>"
      ],
      "text/plain": [
       "    MSSubClass  MSZoning  LotFrontage  LotArea  Street  Alley  LotShape  \\\n",
       "Id                                                                        \n",
       "1            5         3         65.0     8450       1     -1         3   \n",
       "2            0         3         80.0     9600       1     -1         3   \n",
       "3            5         3         68.0    11250       1     -1         0   \n",
       "4            6         3         60.0     9550       1     -1         0   \n",
       "5            5         3         84.0    14260       1     -1         0   \n",
       "\n",
       "    LandContour  Utilities  LotConfig  ...  PoolArea  PoolQC  Fence  \\\n",
       "Id                                     ...                            \n",
       "1             3          0          4  ...         0      -1     -1   \n",
       "2             3          0          2  ...         0      -1     -1   \n",
       "3             3          0          4  ...         0      -1     -1   \n",
       "4             3          0          0  ...         0      -1     -1   \n",
       "5             3          0          2  ...         0      -1     -1   \n",
       "\n",
       "    MiscFeature  MiscVal  MoSold  YrSold  SaleType  SaleCondition  SalePrice  \n",
       "Id                                                                            \n",
       "1            -1        0       2    2008         8              4     208500  \n",
       "2            -1        0       5    2007         8              4     181500  \n",
       "3            -1        0       9    2008         8              4     223500  \n",
       "4            -1        0       2    2006         8              0     140000  \n",
       "5            -1        0      12    2008         8              4     250000  \n",
       "\n",
       "[5 rows x 80 columns]"
      ]
     },
     "execution_count": 57,
     "metadata": {},
     "output_type": "execute_result"
    }
   ],
   "source": [
    "train_copy_df.head()"
   ]
  },
  {
   "cell_type": "code",
   "execution_count": 58,
   "metadata": {},
   "outputs": [
    {
     "data": {
      "text/plain": [
       "array([dtype('int8'), dtype('int8'), dtype('float64'), dtype('int64'),\n",
       "       dtype('int8'), dtype('int8'), dtype('int8'), dtype('int8'),\n",
       "       dtype('int8'), dtype('int8'), dtype('int8'), dtype('int8'),\n",
       "       dtype('int8'), dtype('int8'), dtype('int8'), dtype('int8'),\n",
       "       dtype('int64'), dtype('int64'), dtype('int64'), dtype('int64'),\n",
       "       dtype('int8'), dtype('int8'), dtype('int8'), dtype('int8'),\n",
       "       dtype('int8'), dtype('float64'), dtype('int8'), dtype('int8'),\n",
       "       dtype('int8'), dtype('int8'), dtype('int8'), dtype('int8'),\n",
       "       dtype('int8'), dtype('int64'), dtype('int8'), dtype('int64'),\n",
       "       dtype('int16'), dtype('int64'), dtype('int8'), dtype('int8'),\n",
       "       dtype('int8'), dtype('int8'), dtype('int64'), dtype('int64'),\n",
       "       dtype('int64'), dtype('int64'), dtype('int64'), dtype('int64'),\n",
       "       dtype('int64'), dtype('int64'), dtype('int64'), dtype('int64'),\n",
       "       dtype('int8'), dtype('int64'), dtype('int8'), dtype('int64'),\n",
       "       dtype('int8'), dtype('int8'), dtype('float64'), dtype('int8'),\n",
       "       dtype('int64'), dtype('int64'), dtype('int8'), dtype('int8'),\n",
       "       dtype('int8'), dtype('int64'), dtype('int64'), dtype('int64'),\n",
       "       dtype('int64'), dtype('int64'), dtype('int64'), dtype('int8'),\n",
       "       dtype('int8'), dtype('int8'), dtype('int64'), dtype('int64'),\n",
       "       dtype('int64'), dtype('int8'), dtype('int8'), dtype('int64')],\n",
       "      dtype=object)"
      ]
     },
     "execution_count": 58,
     "metadata": {},
     "output_type": "execute_result"
    }
   ],
   "source": [
    "train_copy_df.dtypes.values"
   ]
  },
  {
   "cell_type": "code",
   "execution_count": 73,
   "metadata": {},
   "outputs": [
    {
     "name": "stdout",
     "output_type": "stream",
     "text": [
      "[8, 5, 2, 7, 9, 3, 4, 1, 0, 6]\n"
     ]
    }
   ],
   "source": [
    "import random\n",
    "ll = list(range(10))\n",
    "random.shuffle(ll)\n",
    "print(ll)"
   ]
  },
  {
   "cell_type": "code",
   "execution_count": 83,
   "metadata": {},
   "outputs": [],
   "source": [
    "import random\n",
    "ll = list(range(train_copy_df.shape[0]))\n",
    "random.shuffle(ll)\n",
    "test_size = int(train_copy_df.shape[0] / 3)\n",
    "test_index = ll[:test_size]\n",
    "test_data_set = (train_copy_df[all_features].iloc[test_index], train_copy_df['SalePrice'].iloc[test_index].values)"
   ]
  },
  {
   "cell_type": "code",
   "execution_count": 84,
   "metadata": {},
   "outputs": [],
   "source": [
    "all_features = ['MSSubClass', 'MSZoning', 'LotFrontage', 'LotArea', 'Street', 'Alley',\n",
    "       'LotShape', 'LandContour', 'Utilities', 'LotConfig', 'LandSlope',\n",
    "       'Neighborhood', 'Condition1', 'Condition2', 'BldgType', 'HouseStyle',\n",
    "       'OverallQual', 'OverallCond', 'YearBuilt', 'YearRemodAdd', 'RoofStyle',\n",
    "       'RoofMatl', 'Exterior1st', 'Exterior2nd', 'MasVnrType', 'MasVnrArea',\n",
    "       'ExterQual', 'ExterCond', 'Foundation', 'BsmtQual', 'BsmtCond',\n",
    "       'BsmtExposure', 'BsmtFinType1', 'BsmtFinSF1', 'BsmtFinType2',\n",
    "       'BsmtFinSF2', 'BsmtUnfSF', 'TotalBsmtSF', 'Heating', 'HeatingQC',\n",
    "       'CentralAir', 'Electrical', '1stFlrSF', '2ndFlrSF', 'LowQualFinSF',\n",
    "       'GrLivArea', 'BsmtFullBath', 'BsmtHalfBath', 'FullBath', 'HalfBath',\n",
    "       'BedroomAbvGr', 'KitchenAbvGr', 'KitchenQual', 'TotRmsAbvGrd',\n",
    "       'Functional', 'Fireplaces', 'FireplaceQu', 'GarageType', 'GarageYrBlt',\n",
    "       'GarageFinish', 'GarageCars', 'GarageArea', 'GarageQual', 'GarageCond',\n",
    "       'PavedDrive', 'WoodDeckSF', 'OpenPorchSF', 'EnclosedPorch', '3SsnPorch',\n",
    "       'ScreenPorch', 'PoolArea', 'PoolQC', 'Fence', 'MiscFeature', 'MiscVal',\n",
    "       'MoSold', 'YrSold', 'SaleType', 'SaleCondition']"
   ]
  },
  {
   "cell_type": "code",
   "execution_count": 85,
   "metadata": {},
   "outputs": [
    {
     "name": "stdout",
     "output_type": "stream",
     "text": [
      "[1]\tvalid_0's l2: 5.02401e+09\n",
      "[2]\tvalid_0's l2: 4.26746e+09\n",
      "[3]\tvalid_0's l2: 3.65559e+09\n",
      "[4]\tvalid_0's l2: 3.13114e+09\n",
      "[5]\tvalid_0's l2: 2.7076e+09\n",
      "[6]\tvalid_0's l2: 2.37581e+09\n",
      "[7]\tvalid_0's l2: 2.07425e+09\n",
      "[8]\tvalid_0's l2: 1.81236e+09\n",
      "[9]\tvalid_0's l2: 1.61919e+09\n",
      "[10]\tvalid_0's l2: 1.44517e+09\n",
      "[11]\tvalid_0's l2: 1.31381e+09\n",
      "[12]\tvalid_0's l2: 1.18676e+09\n",
      "[13]\tvalid_0's l2: 1.07284e+09\n",
      "[14]\tvalid_0's l2: 9.79484e+08\n",
      "[15]\tvalid_0's l2: 8.95062e+08\n",
      "[16]\tvalid_0's l2: 8.30024e+08\n",
      "[17]\tvalid_0's l2: 7.64754e+08\n",
      "[18]\tvalid_0's l2: 7.11001e+08\n",
      "[19]\tvalid_0's l2: 6.64584e+08\n",
      "[20]\tvalid_0's l2: 6.22839e+08\n",
      "[21]\tvalid_0's l2: 5.8458e+08\n",
      "[22]\tvalid_0's l2: 5.52445e+08\n",
      "[23]\tvalid_0's l2: 5.19729e+08\n",
      "[24]\tvalid_0's l2: 4.99466e+08\n",
      "[25]\tvalid_0's l2: 4.82177e+08\n",
      "[26]\tvalid_0's l2: 4.60492e+08\n",
      "[27]\tvalid_0's l2: 4.47404e+08\n",
      "[28]\tvalid_0's l2: 4.29368e+08\n",
      "[29]\tvalid_0's l2: 4.18596e+08\n",
      "[30]\tvalid_0's l2: 4.04015e+08\n",
      "[31]\tvalid_0's l2: 3.95734e+08\n",
      "[32]\tvalid_0's l2: 3.86565e+08\n",
      "[33]\tvalid_0's l2: 3.78394e+08\n",
      "[34]\tvalid_0's l2: 3.66048e+08\n",
      "[35]\tvalid_0's l2: 3.59741e+08\n",
      "[36]\tvalid_0's l2: 3.53724e+08\n",
      "[37]\tvalid_0's l2: 3.48409e+08\n",
      "[38]\tvalid_0's l2: 3.43801e+08\n",
      "[39]\tvalid_0's l2: 3.33216e+08\n",
      "[40]\tvalid_0's l2: 3.27434e+08\n",
      "[41]\tvalid_0's l2: 3.2317e+08\n",
      "[42]\tvalid_0's l2: 3.15653e+08\n",
      "[43]\tvalid_0's l2: 3.07148e+08\n",
      "[44]\tvalid_0's l2: 3.00109e+08\n",
      "[45]\tvalid_0's l2: 2.93992e+08\n",
      "[46]\tvalid_0's l2: 2.91547e+08\n",
      "[47]\tvalid_0's l2: 2.85105e+08\n",
      "[48]\tvalid_0's l2: 2.7835e+08\n",
      "[49]\tvalid_0's l2: 2.72851e+08\n",
      "[50]\tvalid_0's l2: 2.67853e+08\n",
      "[51]\tvalid_0's l2: 2.62289e+08\n",
      "[52]\tvalid_0's l2: 2.5698e+08\n",
      "[53]\tvalid_0's l2: 2.51875e+08\n",
      "[54]\tvalid_0's l2: 2.45504e+08\n",
      "[55]\tvalid_0's l2: 2.4154e+08\n",
      "[56]\tvalid_0's l2: 2.37715e+08\n",
      "[57]\tvalid_0's l2: 2.33604e+08\n",
      "[58]\tvalid_0's l2: 2.28848e+08\n",
      "[59]\tvalid_0's l2: 2.24885e+08\n",
      "[60]\tvalid_0's l2: 2.21772e+08\n",
      "[61]\tvalid_0's l2: 2.18316e+08\n",
      "[62]\tvalid_0's l2: 2.13219e+08\n",
      "[63]\tvalid_0's l2: 2.10477e+08\n",
      "[64]\tvalid_0's l2: 2.06757e+08\n",
      "[65]\tvalid_0's l2: 2.03815e+08\n",
      "[66]\tvalid_0's l2: 1.99466e+08\n",
      "[67]\tvalid_0's l2: 1.97116e+08\n",
      "[68]\tvalid_0's l2: 1.94499e+08\n",
      "[69]\tvalid_0's l2: 1.90771e+08\n",
      "[70]\tvalid_0's l2: 1.87095e+08\n",
      "[71]\tvalid_0's l2: 1.84257e+08\n",
      "[72]\tvalid_0's l2: 1.82085e+08\n",
      "[73]\tvalid_0's l2: 1.80193e+08\n",
      "[74]\tvalid_0's l2: 1.77738e+08\n",
      "[75]\tvalid_0's l2: 1.74801e+08\n",
      "[76]\tvalid_0's l2: 1.72562e+08\n",
      "[77]\tvalid_0's l2: 1.70274e+08\n",
      "[78]\tvalid_0's l2: 1.67928e+08\n",
      "[79]\tvalid_0's l2: 1.64803e+08\n",
      "[80]\tvalid_0's l2: 1.61965e+08\n",
      "[81]\tvalid_0's l2: 1.60154e+08\n",
      "[82]\tvalid_0's l2: 1.58414e+08\n",
      "[83]\tvalid_0's l2: 1.5712e+08\n",
      "[84]\tvalid_0's l2: 1.54354e+08\n",
      "[85]\tvalid_0's l2: 1.52646e+08\n",
      "[86]\tvalid_0's l2: 1.49628e+08\n",
      "[87]\tvalid_0's l2: 1.47679e+08\n",
      "[88]\tvalid_0's l2: 1.44628e+08\n",
      "[89]\tvalid_0's l2: 1.43326e+08\n",
      "[90]\tvalid_0's l2: 1.4074e+08\n",
      "[91]\tvalid_0's l2: 1.39082e+08\n",
      "[92]\tvalid_0's l2: 1.36868e+08\n",
      "[93]\tvalid_0's l2: 1.34309e+08\n",
      "[94]\tvalid_0's l2: 1.32667e+08\n",
      "[95]\tvalid_0's l2: 1.31166e+08\n",
      "[96]\tvalid_0's l2: 1.29597e+08\n",
      "[97]\tvalid_0's l2: 1.27512e+08\n",
      "[98]\tvalid_0's l2: 1.2588e+08\n",
      "[99]\tvalid_0's l2: 1.2434e+08\n",
      "[100]\tvalid_0's l2: 1.22973e+08\n"
     ]
    },
    {
     "data": {
      "text/plain": [
       "LGBMRegressor()"
      ]
     },
     "execution_count": 85,
     "metadata": {},
     "output_type": "execute_result"
    }
   ],
   "source": [
    "model.fit(train_copy_df[all_features], train_copy_df['SalePrice'].values, eval_set=test_data_set, categorical_feature=cat_features)"
   ]
  },
  {
   "cell_type": "code",
   "execution_count": 86,
   "metadata": {},
   "outputs": [],
   "source": [
    "predictions = model.predict(train_copy_df[all_features]).astype('int')"
   ]
  },
  {
   "cell_type": "code",
   "execution_count": 87,
   "metadata": {},
   "outputs": [
    {
     "name": "stdout",
     "output_type": "stream",
     "text": [
      "{'true_price': 208500, 'predicted_price': 205494}\n",
      "{'true_price': 181500, 'predicted_price': 182299}\n",
      "{'true_price': 223500, 'predicted_price': 218137}\n",
      "{'true_price': 140000, 'predicted_price': 151950}\n",
      "{'true_price': 250000, 'predicted_price': 265743}\n"
     ]
    }
   ],
   "source": [
    "for x, y in zip(predictions[:5], train_copy_df['SalePrice'].values[:5]):\n",
    "    print({\"true_price\": y, \"predicted_price\": x})"
   ]
  },
  {
   "cell_type": "code",
   "execution_count": 88,
   "metadata": {},
   "outputs": [
    {
     "data": {
      "text/plain": [
       "['MSSubClass',\n",
       " 'MSZoning',\n",
       " 'LotFrontage',\n",
       " 'LotArea',\n",
       " 'Street',\n",
       " 'Alley',\n",
       " 'LotShape',\n",
       " 'LandContour',\n",
       " 'Utilities',\n",
       " 'LotConfig',\n",
       " 'LandSlope',\n",
       " 'Neighborhood',\n",
       " 'Condition1',\n",
       " 'Condition2',\n",
       " 'BldgType',\n",
       " 'HouseStyle',\n",
       " 'OverallQual',\n",
       " 'OverallCond',\n",
       " 'YearBuilt',\n",
       " 'YearRemodAdd',\n",
       " 'RoofStyle',\n",
       " 'RoofMatl',\n",
       " 'Exterior1st',\n",
       " 'Exterior2nd',\n",
       " 'MasVnrType',\n",
       " 'MasVnrArea',\n",
       " 'ExterQual',\n",
       " 'ExterCond',\n",
       " 'Foundation',\n",
       " 'BsmtQual',\n",
       " 'BsmtCond',\n",
       " 'BsmtExposure',\n",
       " 'BsmtFinType1',\n",
       " 'BsmtFinSF1',\n",
       " 'BsmtFinType2',\n",
       " 'BsmtFinSF2',\n",
       " 'BsmtUnfSF',\n",
       " 'TotalBsmtSF',\n",
       " 'Heating',\n",
       " 'HeatingQC',\n",
       " 'CentralAir',\n",
       " 'Electrical',\n",
       " '1stFlrSF',\n",
       " '2ndFlrSF',\n",
       " 'LowQualFinSF',\n",
       " 'GrLivArea',\n",
       " 'BsmtFullBath',\n",
       " 'BsmtHalfBath',\n",
       " 'FullBath',\n",
       " 'HalfBath',\n",
       " 'BedroomAbvGr',\n",
       " 'KitchenAbvGr',\n",
       " 'KitchenQual',\n",
       " 'TotRmsAbvGrd',\n",
       " 'Functional',\n",
       " 'Fireplaces',\n",
       " 'FireplaceQu',\n",
       " 'GarageType',\n",
       " 'GarageYrBlt',\n",
       " 'GarageFinish',\n",
       " 'GarageCars',\n",
       " 'GarageArea',\n",
       " 'GarageQual',\n",
       " 'GarageCond',\n",
       " 'PavedDrive',\n",
       " 'WoodDeckSF',\n",
       " 'OpenPorchSF',\n",
       " 'EnclosedPorch',\n",
       " '3SsnPorch',\n",
       " 'ScreenPorch',\n",
       " 'PoolArea',\n",
       " 'PoolQC',\n",
       " 'Fence',\n",
       " 'MiscFeature',\n",
       " 'MiscVal',\n",
       " 'MoSold',\n",
       " 'YrSold',\n",
       " 'SaleType',\n",
       " 'SaleCondition']"
      ]
     },
     "execution_count": 88,
     "metadata": {},
     "output_type": "execute_result"
    }
   ],
   "source": [
    "model.feature_name_"
   ]
  },
  {
   "cell_type": "code",
   "execution_count": 93,
   "metadata": {},
   "outputs": [
    {
     "name": "stdout",
     "output_type": "stream",
     "text": [
      "{'feature': 'GrLivArea', 'score': 297, 'cate?': False}\n",
      "{'feature': 'TotalBsmtSF', 'score': 231, 'cate?': False}\n",
      "{'feature': 'LotArea', 'score': 214, 'cate?': False}\n",
      "{'feature': 'BsmtFinSF1', 'score': 190, 'cate?': False}\n",
      "{'feature': '1stFlrSF', 'score': 166, 'cate?': False}\n",
      "{'feature': 'GarageArea', 'score': 164, 'cate?': False}\n",
      "{'feature': 'LotFrontage', 'score': 148, 'cate?': False}\n",
      "{'feature': 'MasVnrArea', 'score': 144, 'cate?': False}\n",
      "{'feature': 'OpenPorchSF', 'score': 138, 'cate?': False}\n",
      "{'feature': 'Neighborhood', 'score': 114, 'cate?': True}\n",
      "{'feature': 'GarageYrBlt', 'score': 107, 'cate?': False}\n",
      "{'feature': 'YearBuilt', 'score': 94, 'cate?': False}\n",
      "{'feature': 'YearRemodAdd', 'score': 90, 'cate?': False}\n",
      "{'feature': '2ndFlrSF', 'score': 90, 'cate?': False}\n",
      "{'feature': 'OverallQual', 'score': 85, 'cate?': False}\n",
      "{'feature': 'OverallCond', 'score': 83, 'cate?': False}\n",
      "{'feature': 'WoodDeckSF', 'score': 70, 'cate?': False}\n",
      "{'feature': 'MoSold', 'score': 70, 'cate?': False}\n",
      "{'feature': 'YrSold', 'score': 42, 'cate?': False}\n",
      "{'feature': 'GarageFinish', 'score': 29, 'cate?': True}\n",
      "{'feature': 'BedroomAbvGr', 'score': 29, 'cate?': False}\n",
      "{'feature': 'ExterQual', 'score': 28, 'cate?': True}\n",
      "{'feature': 'Exterior1st', 'score': 27, 'cate?': True}\n",
      "{'feature': 'TotRmsAbvGrd', 'score': 25, 'cate?': False}\n",
      "{'feature': 'EnclosedPorch', 'score': 24, 'cate?': False}\n"
     ]
    }
   ],
   "source": [
    "selected_features = []\n",
    "for x, y in sorted(zip(model.feature_importances_, model.feature_name_), reverse=True)[:25]:\n",
    "    print({\"feature\": y, \"score\": x, \"cate?\": y in cat_features})\n",
    "    selected_features.append(y)"
   ]
  },
  {
   "cell_type": "code",
   "execution_count": 94,
   "metadata": {},
   "outputs": [
    {
     "data": {
      "text/plain": [
       "['GrLivArea',\n",
       " 'TotalBsmtSF',\n",
       " 'LotArea',\n",
       " 'BsmtFinSF1',\n",
       " '1stFlrSF',\n",
       " 'GarageArea',\n",
       " 'LotFrontage',\n",
       " 'MasVnrArea',\n",
       " 'OpenPorchSF',\n",
       " 'Neighborhood',\n",
       " 'GarageYrBlt',\n",
       " 'YearBuilt',\n",
       " 'YearRemodAdd',\n",
       " '2ndFlrSF',\n",
       " 'OverallQual',\n",
       " 'OverallCond',\n",
       " 'WoodDeckSF',\n",
       " 'MoSold',\n",
       " 'YrSold',\n",
       " 'GarageFinish',\n",
       " 'BedroomAbvGr',\n",
       " 'ExterQual',\n",
       " 'Exterior1st',\n",
       " 'TotRmsAbvGrd',\n",
       " 'EnclosedPorch']"
      ]
     },
     "execution_count": 94,
     "metadata": {},
     "output_type": "execute_result"
    }
   ],
   "source": [
    "selected_features"
   ]
  },
  {
   "cell_type": "code",
   "execution_count": null,
   "metadata": {},
   "outputs": [],
   "source": [
    "# GarageYrBlt, MasVnrArea and LotFrontage are not used due to missing values"
   ]
  },
  {
   "cell_type": "code",
   "execution_count": 65,
   "metadata": {},
   "outputs": [],
   "source": [
    "selected_columns = ['OverallQual', 'GrLivArea', 'GarageCars', 'GarageArea', 'TotalBsmtSF',\n",
    "       '1stFlrSF', 'FullBath', 'TotRmsAbvGrd', 'YearBuilt', 'YearRemodAdd',\n",
    "        'Fireplaces', 'BsmtFinSF1', \n",
    "       'WoodDeckSF', '2ndFlrSF', 'OpenPorchSF', 'HalfBath', 'LotArea']"
   ]
  },
  {
   "cell_type": "code",
   "execution_count": 60,
   "metadata": {},
   "outputs": [
    {
     "data": {
      "image/png": "[encoded data removed]",
      "text/plain": [
       "<Figure size 864x576 with 1 Axes>"
      ]
     },
     "metadata": {
      "needs_background": "light"
     },
     "output_type": "display_data"
    },
    {
     "data": {
      "image/png": "[encoded data removed]",
      "text/plain": [
       "<Figure size 864x576 with 1 Axes>"
      ]
     },
     "metadata": {
      "needs_background": "light"
     },
     "output_type": "display_data"
    },
    {
     "data": {
      "image/png": "[encoded data removed]",
      "text/plain": [
       "<Figure size 864x576 with 1 Axes>"
      ]
     },
     "metadata": {
      "needs_background": "light"
     },
     "output_type": "display_data"
    },
    {
     "data": {
      "image/png": "[encoded data removed]",
      "text/plain": [
       "<Figure size 864x576 with 1 Axes>"
      ]
     },
     "metadata": {
      "needs_background": "light"
     },
     "output_type": "display_data"
    }
   ],
   "source": [
    "#scatter plot grlivarea/saleprice\n",
    "for var in ['OverallQual', 'GarageCars', 'FullBath', 'YearBuilt']:\n",
    "    data = pd.concat([train_df['SalePrice'], train_df[var]], axis=1)\n",
    "    f, ax = plt.subplots(figsize=(12, 8))\n",
    "    fig = sns.boxplot(x=var, y=\"SalePrice\", data=data)\n",
    "    fig.axis(ymin=0, ymax=800000);"
   ]
  },
  {
   "cell_type": "code",
   "execution_count": 64,
   "metadata": {},
   "outputs": [
    {
     "data": {
      "text/plain": [
       "OverallQual     0\n",
       "GrLivArea       0\n",
       "GarageCars      0\n",
       "GarageArea      0\n",
       "TotalBsmtSF     0\n",
       "1stFlrSF        0\n",
       "FullBath        0\n",
       "TotRmsAbvGrd    0\n",
       "YearBuilt       0\n",
       "YearRemodAdd    0\n",
       "MasVnrArea      8\n",
       "Fireplaces      0\n",
       "BsmtFinSF1      0\n",
       "WoodDeckSF      0\n",
       "2ndFlrSF        0\n",
       "OpenPorchSF     0\n",
       "HalfBath        0\n",
       "LotArea         0\n",
       "dtype: int64"
      ]
     },
     "execution_count": 64,
     "metadata": {},
     "output_type": "execute_result"
    }
   ],
   "source": [
    "train_df[selected_columns].apply(lambda x: x.isna().sum())"
   ]
  },
  {
   "cell_type": "code",
   "execution_count": 62,
   "metadata": {},
   "outputs": [
    {
     "data": {
      "text/plain": [
       "(1460, 81)"
      ]
     },
     "execution_count": 62,
     "metadata": {},
     "output_type": "execute_result"
    }
   ],
   "source": [
    "train_df.shape"
   ]
  },
  {
   "cell_type": "code",
   "execution_count": 66,
   "metadata": {},
   "outputs": [
    {
     "data": {
      "text/plain": [
       "OverallQual     0\n",
       "GrLivArea       0\n",
       "GarageCars      1\n",
       "GarageArea      1\n",
       "TotalBsmtSF     1\n",
       "1stFlrSF        0\n",
       "FullBath        0\n",
       "TotRmsAbvGrd    0\n",
       "YearBuilt       0\n",
       "YearRemodAdd    0\n",
       "Fireplaces      0\n",
       "BsmtFinSF1      1\n",
       "WoodDeckSF      0\n",
       "2ndFlrSF        0\n",
       "OpenPorchSF     0\n",
       "HalfBath        0\n",
       "LotArea         0\n",
       "dtype: int64"
      ]
     },
     "execution_count": 66,
     "metadata": {},
     "output_type": "execute_result"
    }
   ],
   "source": [
    "test_df[selected_columns].apply(lambda x: x.isna().sum())"
   ]
  },
  {
   "cell_type": "code",
   "execution_count": 70,
   "metadata": {},
   "outputs": [
    {
     "data": {
      "text/html": [
       "<div>\n",
       "<style scoped>\n",
       "    .dataframe tbody tr th:only-of-type {\n",
       "        vertical-align: middle;\n",
       "    }\n",
       "\n",
       "    .dataframe tbody tr th {\n",
       "        vertical-align: top;\n",
       "    }\n",
       "\n",
       "    .dataframe thead th {\n",
       "        text-align: right;\n",
       "    }\n",
       "</style>\n",
       "<table border=\"1\" class=\"dataframe\">\n",
       "  <thead>\n",
       "    <tr style=\"text-align: right;\">\n",
       "      <th></th>\n",
       "      <th>OverallQual</th>\n",
       "      <th>GrLivArea</th>\n",
       "      <th>GarageCars</th>\n",
       "      <th>GarageArea</th>\n",
       "      <th>TotalBsmtSF</th>\n",
       "      <th>1stFlrSF</th>\n",
       "      <th>FullBath</th>\n",
       "      <th>TotRmsAbvGrd</th>\n",
       "      <th>YearBuilt</th>\n",
       "      <th>YearRemodAdd</th>\n",
       "      <th>Fireplaces</th>\n",
       "      <th>BsmtFinSF1</th>\n",
       "      <th>WoodDeckSF</th>\n",
       "      <th>2ndFlrSF</th>\n",
       "      <th>OpenPorchSF</th>\n",
       "      <th>HalfBath</th>\n",
       "      <th>LotArea</th>\n",
       "    </tr>\n",
       "  </thead>\n",
       "  <tbody>\n",
       "    <tr>\n",
       "      <th>1116</th>\n",
       "      <td>5</td>\n",
       "      <td>1828</td>\n",
       "      <td>NaN</td>\n",
       "      <td>NaN</td>\n",
       "      <td>859.0</td>\n",
       "      <td>942</td>\n",
       "      <td>2</td>\n",
       "      <td>6</td>\n",
       "      <td>1923</td>\n",
       "      <td>1999</td>\n",
       "      <td>0</td>\n",
       "      <td>548.0</td>\n",
       "      <td>174</td>\n",
       "      <td>886</td>\n",
       "      <td>0</td>\n",
       "      <td>0</td>\n",
       "      <td>9060</td>\n",
       "    </tr>\n",
       "  </tbody>\n",
       "</table>\n",
       "</div>"
      ],
      "text/plain": [
       "      OverallQual  GrLivArea  GarageCars  GarageArea  TotalBsmtSF  1stFlrSF  \\\n",
       "1116            5       1828         NaN         NaN        859.0       942   \n",
       "\n",
       "      FullBath  TotRmsAbvGrd  YearBuilt  YearRemodAdd  Fireplaces  BsmtFinSF1  \\\n",
       "1116         2             6       1923          1999           0       548.0   \n",
       "\n",
       "      WoodDeckSF  2ndFlrSF  OpenPorchSF  HalfBath  LotArea  \n",
       "1116         174       886            0         0     9060  "
      ]
     },
     "execution_count": 70,
     "metadata": {},
     "output_type": "execute_result"
    }
   ],
   "source": [
    "test_df[test_df['GarageCars'].isna()][selected_columns]"
   ]
  },
  {
   "cell_type": "code",
   "execution_count": 73,
   "metadata": {},
   "outputs": [
    {
     "data": {
      "text/plain": [
       "1.0"
      ]
     },
     "execution_count": 73,
     "metadata": {},
     "output_type": "execute_result"
    }
   ],
   "source": [
    "test_df[test_df['YearBuilt'] == 1923]['GarageCars'].median()"
   ]
  },
  {
   "cell_type": "code",
   "execution_count": null,
   "metadata": {},
   "outputs": [],
   "source": []
  }
 ],
 "metadata": {
  "kernelspec": {
   "display_name": "Python 3",
   "language": "python",
   "name": "python3"
  },
  "language_info": {
   "codemirror_mode": {
    "name": "ipython",
    "version": 3
   },
   "file_extension": ".py",
   "mimetype": "text/x-python",
   "name": "python",
   "nbconvert_exporter": "python",
   "pygments_lexer": "ipython3",
   "version": "3.8.3"
  }
 },
 "nbformat": 4,
 "nbformat_minor": 4
}
